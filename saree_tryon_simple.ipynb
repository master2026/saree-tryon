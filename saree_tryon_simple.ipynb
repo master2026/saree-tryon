{
 "cells": [
  {
   "cell_type": "markdown",
   "id": "78ebd8ef",
   "metadata": {},
   "source": [
    "# Saree Try-On (Simple)\n",
    "Upload a saree + model photo → Get result."
   ]
  },
  {
   "cell_type": "code",
   "execution_count": null,
   "id": "eea02d71",
   "metadata": {},
   "outputs": [],
   "source": [
    "\n",
    "# Install dependencies\n",
    "!pip install rembg Pillow\n",
    "\n",
    "from rembg import remove\n",
    "from PIL import Image\n",
    "\n",
    "# Upload saree + model\n",
    "from google.colab import files\n",
    "uploaded = files.upload()\n",
    "\n",
    "# Assume first is saree, second is model\n",
    "file_list = list(uploaded.keys())\n",
    "saree_path = file_list[0]\n",
    "model_path = file_list[1]\n",
    "\n",
    "saree = Image.open(saree_path).convert(\"RGBA\")\n",
    "model = Image.open(model_path).convert(\"RGBA\")\n",
    "\n",
    "# Remove background of saree\n",
    "saree_no_bg = remove(saree)\n",
    "\n",
    "# Overlay saree on model (simple placement)\n",
    "model.paste(saree_no_bg, (50,150), saree_no_bg)\n",
    "model.save(\"output.png\")\n",
    "\n",
    "from IPython.display import Image as show\n",
    "show(filename=\"output.png\")\n"
   ]
  }
 ],
 "metadata": {},
 "nbformat": 4,
 "nbformat_minor": 5
}
